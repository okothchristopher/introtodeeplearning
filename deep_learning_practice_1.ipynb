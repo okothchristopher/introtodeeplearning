{
  "nbformat": 4,
  "nbformat_minor": 0,
  "metadata": {
    "colab": {
      "name": "deep_learning_practice_1.ipynb",
      "provenance": [],
      "collapsed_sections": [],
      "authorship_tag": "ABX9TyOFZKHFULGcnaO+PxrKKnOf",
      "include_colab_link": true
    },
    "kernelspec": {
      "name": "python3",
      "display_name": "Python 3"
    },
    "accelerator": "GPU"
  },
  "cells": [
    {
      "cell_type": "markdown",
      "metadata": {
        "id": "view-in-github",
        "colab_type": "text"
      },
      "source": [
        "<a href=\"https://colab.research.google.com/github/okothchristopher/introtodeeplearning/blob/master/deep_learning_practice_1.ipynb\" target=\"_parent\"><img src=\"https://colab.research.google.com/assets/colab-badge.svg\" alt=\"Open In Colab\"/></a>"
      ]
    },
    {
      "cell_type": "code",
      "metadata": {
        "id": "nSWKkh_D3T1G",
        "colab_type": "code",
        "colab": {}
      },
      "source": [
        "# deep learning with keras first practice "
      ],
      "execution_count": 1,
      "outputs": []
    },
    {
      "cell_type": "code",
      "metadata": {
        "id": "o4eZS5mH3fQr",
        "colab_type": "code",
        "colab": {}
      },
      "source": [
        "#  import the libraries I need \n",
        "import pandas as pd\n",
        "from keras.layers import Dense \n",
        "from keras.models import Sequential # we will be using sequential models for this first practice \n",
        "from sklearn.model_selection import train_test_split"
      ],
      "execution_count": 7,
      "outputs": []
    },
    {
      "cell_type": "code",
      "metadata": {
        "id": "QnnNyKyl4hcA",
        "colab_type": "code",
        "colab": {
          "base_uri": "https://localhost:8080/",
          "height": 204
        },
        "outputId": "c5b31652-23a2-4a98-e2cd-13818dab7568"
      },
      "source": [
        "df=pd.read_csv('https://assets.datacamp.com/production/repositories/654/datasets/8a57adcdb5bfb3e603dad7d3c61682dfe63082b8/hourly_wages.csv')\n",
        "df.head()"
      ],
      "execution_count": 4,
      "outputs": [
        {
          "output_type": "execute_result",
          "data": {
            "text/html": [
              "<div>\n",
              "<style scoped>\n",
              "    .dataframe tbody tr th:only-of-type {\n",
              "        vertical-align: middle;\n",
              "    }\n",
              "\n",
              "    .dataframe tbody tr th {\n",
              "        vertical-align: top;\n",
              "    }\n",
              "\n",
              "    .dataframe thead th {\n",
              "        text-align: right;\n",
              "    }\n",
              "</style>\n",
              "<table border=\"1\" class=\"dataframe\">\n",
              "  <thead>\n",
              "    <tr style=\"text-align: right;\">\n",
              "      <th></th>\n",
              "      <th>wage_per_hour</th>\n",
              "      <th>union</th>\n",
              "      <th>education_yrs</th>\n",
              "      <th>experience_yrs</th>\n",
              "      <th>age</th>\n",
              "      <th>female</th>\n",
              "      <th>marr</th>\n",
              "      <th>south</th>\n",
              "      <th>manufacturing</th>\n",
              "      <th>construction</th>\n",
              "    </tr>\n",
              "  </thead>\n",
              "  <tbody>\n",
              "    <tr>\n",
              "      <th>0</th>\n",
              "      <td>5.10</td>\n",
              "      <td>0</td>\n",
              "      <td>8</td>\n",
              "      <td>21</td>\n",
              "      <td>35</td>\n",
              "      <td>1</td>\n",
              "      <td>1</td>\n",
              "      <td>0</td>\n",
              "      <td>1</td>\n",
              "      <td>0</td>\n",
              "    </tr>\n",
              "    <tr>\n",
              "      <th>1</th>\n",
              "      <td>4.95</td>\n",
              "      <td>0</td>\n",
              "      <td>9</td>\n",
              "      <td>42</td>\n",
              "      <td>57</td>\n",
              "      <td>1</td>\n",
              "      <td>1</td>\n",
              "      <td>0</td>\n",
              "      <td>1</td>\n",
              "      <td>0</td>\n",
              "    </tr>\n",
              "    <tr>\n",
              "      <th>2</th>\n",
              "      <td>6.67</td>\n",
              "      <td>0</td>\n",
              "      <td>12</td>\n",
              "      <td>1</td>\n",
              "      <td>19</td>\n",
              "      <td>0</td>\n",
              "      <td>0</td>\n",
              "      <td>0</td>\n",
              "      <td>1</td>\n",
              "      <td>0</td>\n",
              "    </tr>\n",
              "    <tr>\n",
              "      <th>3</th>\n",
              "      <td>4.00</td>\n",
              "      <td>0</td>\n",
              "      <td>12</td>\n",
              "      <td>4</td>\n",
              "      <td>22</td>\n",
              "      <td>0</td>\n",
              "      <td>0</td>\n",
              "      <td>0</td>\n",
              "      <td>0</td>\n",
              "      <td>0</td>\n",
              "    </tr>\n",
              "    <tr>\n",
              "      <th>4</th>\n",
              "      <td>7.50</td>\n",
              "      <td>0</td>\n",
              "      <td>12</td>\n",
              "      <td>17</td>\n",
              "      <td>35</td>\n",
              "      <td>0</td>\n",
              "      <td>1</td>\n",
              "      <td>0</td>\n",
              "      <td>0</td>\n",
              "      <td>0</td>\n",
              "    </tr>\n",
              "  </tbody>\n",
              "</table>\n",
              "</div>"
            ],
            "text/plain": [
              "   wage_per_hour  union  education_yrs  ...  south  manufacturing  construction\n",
              "0           5.10      0              8  ...      0              1             0\n",
              "1           4.95      0              9  ...      0              1             0\n",
              "2           6.67      0             12  ...      0              1             0\n",
              "3           4.00      0             12  ...      0              0             0\n",
              "4           7.50      0             12  ...      0              0             0\n",
              "\n",
              "[5 rows x 10 columns]"
            ]
          },
          "metadata": {
            "tags": []
          },
          "execution_count": 4
        }
      ]
    },
    {
      "cell_type": "code",
      "metadata": {
        "id": "tnBrl_jt4qdr",
        "colab_type": "code",
        "colab": {
          "base_uri": "https://localhost:8080/",
          "height": 297
        },
        "outputId": "06099f2f-776f-4e3c-e10d-5c60aeff1c4b"
      },
      "source": [
        "# so we want to predict wage per hour based on the attributes of the worker \n",
        "df.describe()"
      ],
      "execution_count": 5,
      "outputs": [
        {
          "output_type": "execute_result",
          "data": {
            "text/html": [
              "<div>\n",
              "<style scoped>\n",
              "    .dataframe tbody tr th:only-of-type {\n",
              "        vertical-align: middle;\n",
              "    }\n",
              "\n",
              "    .dataframe tbody tr th {\n",
              "        vertical-align: top;\n",
              "    }\n",
              "\n",
              "    .dataframe thead th {\n",
              "        text-align: right;\n",
              "    }\n",
              "</style>\n",
              "<table border=\"1\" class=\"dataframe\">\n",
              "  <thead>\n",
              "    <tr style=\"text-align: right;\">\n",
              "      <th></th>\n",
              "      <th>wage_per_hour</th>\n",
              "      <th>union</th>\n",
              "      <th>education_yrs</th>\n",
              "      <th>experience_yrs</th>\n",
              "      <th>age</th>\n",
              "      <th>female</th>\n",
              "      <th>marr</th>\n",
              "      <th>south</th>\n",
              "      <th>manufacturing</th>\n",
              "      <th>construction</th>\n",
              "    </tr>\n",
              "  </thead>\n",
              "  <tbody>\n",
              "    <tr>\n",
              "      <th>count</th>\n",
              "      <td>534.000000</td>\n",
              "      <td>534.000000</td>\n",
              "      <td>534.000000</td>\n",
              "      <td>534.000000</td>\n",
              "      <td>534.000000</td>\n",
              "      <td>534.000000</td>\n",
              "      <td>534.000000</td>\n",
              "      <td>534.000000</td>\n",
              "      <td>534.000000</td>\n",
              "      <td>534.000000</td>\n",
              "    </tr>\n",
              "    <tr>\n",
              "      <th>mean</th>\n",
              "      <td>9.024064</td>\n",
              "      <td>0.179775</td>\n",
              "      <td>13.018727</td>\n",
              "      <td>17.822097</td>\n",
              "      <td>36.833333</td>\n",
              "      <td>0.458801</td>\n",
              "      <td>0.655431</td>\n",
              "      <td>0.292135</td>\n",
              "      <td>0.185393</td>\n",
              "      <td>0.044944</td>\n",
              "    </tr>\n",
              "    <tr>\n",
              "      <th>std</th>\n",
              "      <td>5.139097</td>\n",
              "      <td>0.384360</td>\n",
              "      <td>2.615373</td>\n",
              "      <td>12.379710</td>\n",
              "      <td>11.726573</td>\n",
              "      <td>0.498767</td>\n",
              "      <td>0.475673</td>\n",
              "      <td>0.455170</td>\n",
              "      <td>0.388981</td>\n",
              "      <td>0.207375</td>\n",
              "    </tr>\n",
              "    <tr>\n",
              "      <th>min</th>\n",
              "      <td>1.000000</td>\n",
              "      <td>0.000000</td>\n",
              "      <td>2.000000</td>\n",
              "      <td>0.000000</td>\n",
              "      <td>18.000000</td>\n",
              "      <td>0.000000</td>\n",
              "      <td>0.000000</td>\n",
              "      <td>0.000000</td>\n",
              "      <td>0.000000</td>\n",
              "      <td>0.000000</td>\n",
              "    </tr>\n",
              "    <tr>\n",
              "      <th>25%</th>\n",
              "      <td>5.250000</td>\n",
              "      <td>0.000000</td>\n",
              "      <td>12.000000</td>\n",
              "      <td>8.000000</td>\n",
              "      <td>28.000000</td>\n",
              "      <td>0.000000</td>\n",
              "      <td>0.000000</td>\n",
              "      <td>0.000000</td>\n",
              "      <td>0.000000</td>\n",
              "      <td>0.000000</td>\n",
              "    </tr>\n",
              "    <tr>\n",
              "      <th>50%</th>\n",
              "      <td>7.780000</td>\n",
              "      <td>0.000000</td>\n",
              "      <td>12.000000</td>\n",
              "      <td>15.000000</td>\n",
              "      <td>35.000000</td>\n",
              "      <td>0.000000</td>\n",
              "      <td>1.000000</td>\n",
              "      <td>0.000000</td>\n",
              "      <td>0.000000</td>\n",
              "      <td>0.000000</td>\n",
              "    </tr>\n",
              "    <tr>\n",
              "      <th>75%</th>\n",
              "      <td>11.250000</td>\n",
              "      <td>0.000000</td>\n",
              "      <td>15.000000</td>\n",
              "      <td>26.000000</td>\n",
              "      <td>44.000000</td>\n",
              "      <td>1.000000</td>\n",
              "      <td>1.000000</td>\n",
              "      <td>1.000000</td>\n",
              "      <td>0.000000</td>\n",
              "      <td>0.000000</td>\n",
              "    </tr>\n",
              "    <tr>\n",
              "      <th>max</th>\n",
              "      <td>44.500000</td>\n",
              "      <td>1.000000</td>\n",
              "      <td>18.000000</td>\n",
              "      <td>55.000000</td>\n",
              "      <td>64.000000</td>\n",
              "      <td>1.000000</td>\n",
              "      <td>1.000000</td>\n",
              "      <td>1.000000</td>\n",
              "      <td>1.000000</td>\n",
              "      <td>1.000000</td>\n",
              "    </tr>\n",
              "  </tbody>\n",
              "</table>\n",
              "</div>"
            ],
            "text/plain": [
              "       wage_per_hour       union  ...  manufacturing  construction\n",
              "count     534.000000  534.000000  ...     534.000000    534.000000\n",
              "mean        9.024064    0.179775  ...       0.185393      0.044944\n",
              "std         5.139097    0.384360  ...       0.388981      0.207375\n",
              "min         1.000000    0.000000  ...       0.000000      0.000000\n",
              "25%         5.250000    0.000000  ...       0.000000      0.000000\n",
              "50%         7.780000    0.000000  ...       0.000000      0.000000\n",
              "75%        11.250000    0.000000  ...       0.000000      0.000000\n",
              "max        44.500000    1.000000  ...       1.000000      1.000000\n",
              "\n",
              "[8 rows x 10 columns]"
            ]
          },
          "metadata": {
            "tags": []
          },
          "execution_count": 5
        }
      ]
    },
    {
      "cell_type": "code",
      "metadata": {
        "id": "XLxpwKNO41hP",
        "colab_type": "code",
        "colab": {
          "base_uri": "https://localhost:8080/",
          "height": 34
        },
        "outputId": "78db5140-cb3b-464a-cfb6-7c8e462677ef"
      },
      "source": [
        "# X=df.drop(['wage_per_hour'],axis=1)\n",
        "# y=df['wage_per_hour']\n",
        "# from sklearn.preprocessing import StandardScaler # it is always good practice to scale data before training a neural network \n",
        "# scaler=StandardScaler()\n",
        "# X=scaler.fit_transform(X)\n",
        "# X.shape\n",
        "X_train,X_test,y_train,y_test=train_test_split(X,y)\n",
        "print(X_train.shape,y_train.shape,X_test.shape,y_test.shape)\n"
      ],
      "execution_count": 8,
      "outputs": [
        {
          "output_type": "stream",
          "text": [
            "(400, 9) (400,) (134, 9) (134,)\n"
          ],
          "name": "stdout"
        }
      ]
    },
    {
      "cell_type": "code",
      "metadata": {
        "id": "JI9TU04d4_kl",
        "colab_type": "code",
        "colab": {
          "base_uri": "https://localhost:8080/",
          "height": 714
        },
        "outputId": "53c7761f-34d5-4207-8e50-4bac01d7309c"
      },
      "source": [
        "# modelling \n",
        "n_cols=X.shape[1] # this will define the input nodes \n",
        "model=Sequential()\n",
        "model.add(Dense(100,activation='relu',input_shape=(n_cols,)))#after specifying the input shape parameter in the first layer then we can do an input shape reference \n",
        "model.add(Dense(50,activation='relu'))\n",
        "model.add(Dense(20,activation='relu'))\n",
        "model.pop()\n",
        "model.add(Dense(1))\n",
        "model.compile(optimizer='sgd',loss='mean_squared_error',metrics=['mean_squared_error'])\n",
        "model.fit(X_train,y_train,epochs=20)"
      ],
      "execution_count": 63,
      "outputs": [
        {
          "output_type": "stream",
          "text": [
            "Epoch 1/20\n",
            "13/13 [==============================] - 0s 3ms/step - loss: 44.9580 - mean_squared_error: 44.9580\n",
            "Epoch 2/20\n",
            "13/13 [==============================] - 0s 2ms/step - loss: 18.3664 - mean_squared_error: 18.3664\n",
            "Epoch 3/20\n",
            "13/13 [==============================] - 0s 2ms/step - loss: 16.4561 - mean_squared_error: 16.4561\n",
            "Epoch 4/20\n",
            "13/13 [==============================] - 0s 2ms/step - loss: 16.1597 - mean_squared_error: 16.1597\n",
            "Epoch 5/20\n",
            "13/13 [==============================] - 0s 3ms/step - loss: 15.6161 - mean_squared_error: 15.6161\n",
            "Epoch 6/20\n",
            "13/13 [==============================] - 0s 2ms/step - loss: 15.5259 - mean_squared_error: 15.5259\n",
            "Epoch 7/20\n",
            "13/13 [==============================] - 0s 3ms/step - loss: 14.7053 - mean_squared_error: 14.7053\n",
            "Epoch 8/20\n",
            "13/13 [==============================] - 0s 3ms/step - loss: 15.3305 - mean_squared_error: 15.3305\n",
            "Epoch 9/20\n",
            "13/13 [==============================] - 0s 2ms/step - loss: 14.8076 - mean_squared_error: 14.8076\n",
            "Epoch 10/20\n",
            "13/13 [==============================] - 0s 2ms/step - loss: 15.9396 - mean_squared_error: 15.9396\n",
            "Epoch 11/20\n",
            "13/13 [==============================] - 0s 3ms/step - loss: 15.2169 - mean_squared_error: 15.2169\n",
            "Epoch 12/20\n",
            "13/13 [==============================] - 0s 2ms/step - loss: 15.0206 - mean_squared_error: 15.0206\n",
            "Epoch 13/20\n",
            "13/13 [==============================] - 0s 2ms/step - loss: 14.8784 - mean_squared_error: 14.8784\n",
            "Epoch 14/20\n",
            "13/13 [==============================] - 0s 2ms/step - loss: 15.1287 - mean_squared_error: 15.1287\n",
            "Epoch 15/20\n",
            "13/13 [==============================] - 0s 2ms/step - loss: 15.8800 - mean_squared_error: 15.8800\n",
            "Epoch 16/20\n",
            "13/13 [==============================] - 0s 2ms/step - loss: 15.5606 - mean_squared_error: 15.5606\n",
            "Epoch 17/20\n",
            "13/13 [==============================] - 0s 2ms/step - loss: 14.5065 - mean_squared_error: 14.5065\n",
            "Epoch 18/20\n",
            "13/13 [==============================] - 0s 3ms/step - loss: 14.8382 - mean_squared_error: 14.8382\n",
            "Epoch 19/20\n",
            "13/13 [==============================] - 0s 2ms/step - loss: 14.6620 - mean_squared_error: 14.6620\n",
            "Epoch 20/20\n",
            "13/13 [==============================] - 0s 2ms/step - loss: 14.5172 - mean_squared_error: 14.5172\n"
          ],
          "name": "stdout"
        },
        {
          "output_type": "execute_result",
          "data": {
            "text/plain": [
              "<tensorflow.python.keras.callbacks.History at 0x7fb6207ff128>"
            ]
          },
          "metadata": {
            "tags": []
          },
          "execution_count": 63
        }
      ]
    },
    {
      "cell_type": "code",
      "metadata": {
        "id": "alY9J_MV6qsg",
        "colab_type": "code",
        "colab": {
          "base_uri": "https://localhost:8080/",
          "height": 255
        },
        "outputId": "a17f79e4-e9e4-47c6-b298-0e7b5d05515b"
      },
      "source": [
        "model.summary()"
      ],
      "execution_count": 64,
      "outputs": [
        {
          "output_type": "stream",
          "text": [
            "Model: \"sequential_45\"\n",
            "_________________________________________________________________\n",
            "Layer (type)                 Output Shape              Param #   \n",
            "=================================================================\n",
            "dense_139 (Dense)            (None, 100)               1000      \n",
            "_________________________________________________________________\n",
            "dense_140 (Dense)            (None, 50)                5050      \n",
            "_________________________________________________________________\n",
            "dense_142 (Dense)            (None, 1)                 51        \n",
            "=================================================================\n",
            "Total params: 6,101\n",
            "Trainable params: 6,101\n",
            "Non-trainable params: 0\n",
            "_________________________________________________________________\n"
          ],
          "name": "stdout"
        }
      ]
    },
    {
      "cell_type": "code",
      "metadata": {
        "id": "iErET5GzDvXy",
        "colab_type": "code",
        "colab": {}
      },
      "source": [
        "y_pred_1=model.predict(X_test)"
      ],
      "execution_count": 65,
      "outputs": []
    },
    {
      "cell_type": "code",
      "metadata": {
        "id": "T8IOQN8bCYMO",
        "colab_type": "code",
        "colab": {
          "base_uri": "https://localhost:8080/",
          "height": 34
        },
        "outputId": "34d57ee2-5e1b-4126-c126-7c299b1bc4d5"
      },
      "source": [
        "from sklearn import metrics\n",
        "metrics.mean_squared_error(y_test,y_pred_1)"
      ],
      "execution_count": 66,
      "outputs": [
        {
          "output_type": "execute_result",
          "data": {
            "text/plain": [
              "29.039182781862273"
            ]
          },
          "metadata": {
            "tags": []
          },
          "execution_count": 66
        }
      ]
    },
    {
      "cell_type": "code",
      "metadata": {
        "id": "VRJt8Y2VDpr5",
        "colab_type": "code",
        "colab": {
          "base_uri": "https://localhost:8080/",
          "height": 34
        },
        "outputId": "ecf61eff-788a-4914-fed7-06b03132e123"
      },
      "source": [
        "# let us compare this with random forest \n",
        "from sklearn.ensemble import RandomForestRegressor\n",
        "model_2=RandomForestRegressor()\n",
        "model_2.fit(X_train,y_train)\n",
        "y_pred=model_2.predict(X_test)\n",
        "metrics.mean_squared_error(y_test,y_pred)"
      ],
      "execution_count": 26,
      "outputs": [
        {
          "output_type": "execute_result",
          "data": {
            "text/plain": [
              "30.897251813389616"
            ]
          },
          "metadata": {
            "tags": []
          },
          "execution_count": 26
        }
      ]
    },
    {
      "cell_type": "code",
      "metadata": {
        "id": "cEVvodRtD9jI",
        "colab_type": "code",
        "colab": {}
      },
      "source": [
        "# adam is an optimization method that relies on the adaptive estimation of the first and ssecond order moments ,it is a sgd method \n",
        "# with deep learning there is no need for cross validation why?\n"
      ],
      "execution_count": 49,
      "outputs": []
    },
    {
      "cell_type": "code",
      "metadata": {
        "id": "sr0nAZqzINej",
        "colab_type": "code",
        "colab": {
          "base_uri": "https://localhost:8080/",
          "height": 153
        },
        "outputId": "eef2c3ed-9db7-41f3-e8b5-af22ec47332e"
      },
      "source": [
        "# then let us optimize this model and see if it can improve \n",
        "## stochastic gradient descent \n",
        "def get_new_model(input_shape=(n_cols,)):\n",
        "  model=Sequential()\n",
        "  model.add(Dense(120,activation=\"relu\",input_shape=input_shape))\n",
        "  model.add(Dense(60,activation=\"relu\"))\n",
        "  model.add(Dense(50,activation=\"relu\"))\n",
        "  model.add(Dense(1,activation='relu'))# since this is a regression problem the class of the output is just one \n",
        "  return model\n",
        "\n",
        "lr_to_test=[0.001,0.0001,0.1,0.003,0.3,0.0004,0.000001,0.0005]\n",
        "from keras.optimizers import  SGD\n",
        "\n",
        "for lr in lr_to_test:\n",
        "  model=get_new_model()\n",
        "  optimizer=SGD(lr=lr)\n",
        "  model.compile(optimizer=optimizer,loss='mean_squared_error')\n",
        "  model.fit(X_train,y_train)"
      ],
      "execution_count": 59,
      "outputs": [
        {
          "output_type": "stream",
          "text": [
            "13/13 [==============================] - 0s 3ms/step - loss: 92.4947\n",
            "13/13 [==============================] - 0s 3ms/step - loss: 98.2514\n",
            "13/13 [==============================] - 0s 2ms/step - loss: 188.6321\n",
            "13/13 [==============================] - 0s 2ms/step - loss: 60.3561\n",
            "13/13 [==============================] - 0s 2ms/step - loss: 116.6772\n",
            "13/13 [==============================] - 0s 2ms/step - loss: 101.1295\n",
            "13/13 [==============================] - 0s 2ms/step - loss: 100.6139\n",
            "13/13 [==============================] - 0s 2ms/step - loss: 100.9312\n"
          ],
          "name": "stdout"
        }
      ]
    },
    {
      "cell_type": "code",
      "metadata": {
        "id": "6FQ22zGDKHtW",
        "colab_type": "code",
        "colab": {
          "base_uri": "https://localhost:8080/",
          "height": 170
        },
        "outputId": "c356dbf8-6a7f-4ea4-9060-02537475720e"
      },
      "source": [
        "## early stopping \n",
        "from keras.callbacks import EarlyStopping\n",
        "early_stopper=EarlyStopping(patience=2)# stop the model once the metric does not improve past 2\n",
        "model.fit(X,y,validation_split=.3,epochs=20,\n",
        "          callbacks=[early_stopper])\n"
      ],
      "execution_count": 67,
      "outputs": [
        {
          "output_type": "stream",
          "text": [
            "Epoch 1/20\n",
            "12/12 [==============================] - 0s 13ms/step - loss: 17.4984 - mean_squared_error: 17.4984 - val_loss: 22.0279 - val_mean_squared_error: 22.0279\n",
            "Epoch 2/20\n",
            "12/12 [==============================] - 0s 5ms/step - loss: 15.8928 - mean_squared_error: 15.8928 - val_loss: 21.7391 - val_mean_squared_error: 21.7391\n",
            "Epoch 3/20\n",
            "12/12 [==============================] - 0s 5ms/step - loss: 15.9576 - mean_squared_error: 15.9576 - val_loss: 24.1563 - val_mean_squared_error: 24.1563\n",
            "Epoch 4/20\n",
            "12/12 [==============================] - 0s 5ms/step - loss: 16.5562 - mean_squared_error: 16.5562 - val_loss: 22.9093 - val_mean_squared_error: 22.9093\n"
          ],
          "name": "stdout"
        },
        {
          "output_type": "execute_result",
          "data": {
            "text/plain": [
              "<tensorflow.python.keras.callbacks.History at 0x7fb61ff29f98>"
            ]
          },
          "metadata": {
            "tags": []
          },
          "execution_count": 67
        }
      ]
    },
    {
      "cell_type": "code",
      "metadata": {
        "id": "Gwa6cKdoMPWd",
        "colab_type": "code",
        "colab": {}
      },
      "source": [
        "# notes-creating a model requires experimentation \n",
        "# increasing the number of epochs can increase the model perfomance and to this end one needs an early stoppage \n"
      ],
      "execution_count": null,
      "outputs": []
    }
  ]
}